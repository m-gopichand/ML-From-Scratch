{
 "cells": [
  {
   "cell_type": "code",
   "execution_count": 1,
   "metadata": {},
   "outputs": [],
   "source": [
    "import numpy as np\n",
    "import matplotlib.pyplot as plt\n",
    "import pandas as pd\n",
    "from sklearn import datasets\n",
    "from sklearn.preprocessing import StandardScaler\n",
    "from sklearn.model_selection import train_test_split"
   ]
  },
  {
   "cell_type": "code",
   "execution_count": 2,
   "metadata": {},
   "outputs": [],
   "source": [
    "from sklearn.datasets import load_breast_cancer\n",
    "\n",
    "dataset = load_breast_cancer()\n",
    "X = dataset.data\n",
    "y = dataset.target"
   ]
  },
  {
   "cell_type": "code",
   "execution_count": 3,
   "metadata": {},
   "outputs": [],
   "source": [
    "sclar = StandardScaler()\n",
    "X = sclar.fit_transform(X)"
   ]
  },
  {
   "cell_type": "code",
   "execution_count": 4,
   "metadata": {},
   "outputs": [],
   "source": [
    "X_train, X_test, y_train, y_test = train_test_split(X, y, test_size=0.2, random_state=42)"
   ]
  },
  {
   "cell_type": "code",
   "execution_count": 5,
   "metadata": {},
   "outputs": [],
   "source": [
    "class Perceptron:\n",
    "    def __init__(self, learning_rate = 0.01, epochs = 10000):\n",
    "        self.lr = learning_rate\n",
    "        self.epochs = epochs\n",
    "        \n",
    "    def step(self, x):\n",
    "        return np.where(x > 0, 1, 0) # return 1 if x > 0 else 0\n",
    "    \n",
    "    def loss(self, y, y_pred):\n",
    "        epsilon = 1e-5\n",
    "        return -1/len(y) * np.sum(y * np.log(y_pred + epsilon) + (1 - y) * np.log(1 - y_pred + epsilon))\n",
    "    \n",
    "    def Accuracy(self, y, y_pred):\n",
    "        return np.sum(y == y_pred) / len(y)\n",
    "    \n",
    "    def fit(self, X, y):\n",
    "\n",
    "        n_samples , n_features = X.shape\n",
    "\n",
    "        self.weights = np.zeros(n_features)\n",
    "        self.bias = 0\n",
    "\n",
    "        for epoch in range(self.epochs):\n",
    "\n",
    "            predicted = self.step(np.dot(X, self.weights) + self.bias)\n",
    "\n",
    "            # Gradient Descent \n",
    "\n",
    "            dw = 1/(n_samples) * np.dot(X.T, (predicted - y))\n",
    "            db = 1/(n_samples) * np.sum(predicted - y)\n",
    "\n",
    "            self.weights -= self.lr * dw \n",
    "            self.bias -= self.lr * db\n",
    "\n",
    "            if epoch % 100 == 0:\n",
    "                print(f'Epoch {epoch} : Loss = {self.loss(predicted, y)} : Accuracy = {self.Accuracy(y, predicted)}')\n",
    "\n",
    "        \n",
    "    def predict(self, X):\n",
    "        predicted = self.step(np.dot(X, self.weights) + self.bias)\n",
    "        return np.array(predicted)\n",
    "    \n",
    "    def evaluate(self, X, y):\n",
    "        predicted = self.predict(X)\n",
    "        return f'Loss {self.loss(predicted, y) } : Accuracy {self.Accuracy(y, predicted)}  '\n"
   ]
  },
  {
   "cell_type": "code",
   "execution_count": 8,
   "metadata": {},
   "outputs": [],
   "source": [
    "model = Perceptron(learning_rate=0.01, epochs=1000)"
   ]
  },
  {
   "cell_type": "code",
   "execution_count": 9,
   "metadata": {},
   "outputs": [
    {
     "name": "stdout",
     "output_type": "stream",
     "text": [
      "Epoch 0 : Loss = 7.2366922922855705 : Accuracy = 0.37142857142857144\n",
      "Epoch 100 : Loss = 0.15180892925773887 : Accuracy = 0.9868131868131869\n",
      "Epoch 200 : Loss = 0.1771120841256954 : Accuracy = 0.9846153846153847\n",
      "Epoch 300 : Loss = 0.202415238993652 : Accuracy = 0.9824175824175824\n",
      "Epoch 400 : Loss = 0.1265057743897824 : Accuracy = 0.989010989010989\n",
      "Epoch 500 : Loss = 0.15180892925773887 : Accuracy = 0.9868131868131869\n",
      "Epoch 600 : Loss = 0.07589946465386924 : Accuracy = 0.9934065934065934\n",
      "Epoch 700 : Loss = 0.1012026195218258 : Accuracy = 0.9912087912087912\n",
      "Epoch 800 : Loss = 0.12650577438978236 : Accuracy = 0.989010989010989\n",
      "Epoch 900 : Loss = 0.15180892925773884 : Accuracy = 0.9868131868131869\n"
     ]
    }
   ],
   "source": [
    "model.fit(X_train, y_train)"
   ]
  },
  {
   "cell_type": "code",
   "execution_count": null,
   "metadata": {},
   "outputs": [],
   "source": []
  }
 ],
 "metadata": {
  "kernelspec": {
   "display_name": "ml",
   "language": "python",
   "name": "python3"
  },
  "language_info": {
   "codemirror_mode": {
    "name": "ipython",
    "version": 3
   },
   "file_extension": ".py",
   "mimetype": "text/x-python",
   "name": "python",
   "nbconvert_exporter": "python",
   "pygments_lexer": "ipython3",
   "version": "3.11.9"
  }
 },
 "nbformat": 4,
 "nbformat_minor": 2
}
