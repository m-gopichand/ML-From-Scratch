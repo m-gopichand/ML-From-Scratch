{
 "cells": [
  {
   "cell_type": "code",
   "execution_count": 1,
   "metadata": {},
   "outputs": [],
   "source": [
    "import numpy as np\n",
    "import matplotlib.pyplot as plt\n",
    "import pandas as pd\n",
    "from sklearn import datasets\n",
    "from sklearn.preprocessing import StandardScaler\n",
    "from sklearn.model_selection import train_test_split"
   ]
  },
  {
   "cell_type": "code",
   "execution_count": 2,
   "metadata": {},
   "outputs": [],
   "source": [
    "from sklearn.datasets import load_breast_cancer\n",
    "\n",
    "# Load the dataset\n",
    "dataset = load_breast_cancer()\n",
    "X = dataset.data\n",
    "y = dataset.target"
   ]
  },
  {
   "cell_type": "code",
   "execution_count": 3,
   "metadata": {},
   "outputs": [],
   "source": [
    "sclar = StandardScaler()\n",
    "X = sclar.fit_transform(X)"
   ]
  },
  {
   "cell_type": "code",
   "execution_count": 4,
   "metadata": {},
   "outputs": [],
   "source": [
    "X_train, X_test, y_train, y_test = train_test_split(X, y, test_size=0.2, random_state=42)"
   ]
  },
  {
   "cell_type": "code",
   "execution_count": 5,
   "metadata": {},
   "outputs": [
    {
     "data": {
      "text/plain": [
       "(455, 30)"
      ]
     },
     "execution_count": 5,
     "metadata": {},
     "output_type": "execute_result"
    }
   ],
   "source": [
    "X_train.shape"
   ]
  },
  {
   "cell_type": "code",
   "execution_count": 6,
   "metadata": {},
   "outputs": [],
   "source": [
    "n_samples , n_features = X_train.shape\n",
    "weights = np.zeros(n_features)\n",
    "bias = 0\n",
    "predicted = np.dot(X_train, weights) + bias\n"
   ]
  },
  {
   "cell_type": "code",
   "execution_count": 7,
   "metadata": {},
   "outputs": [
    {
     "data": {
      "text/plain": [
       "((455,), (30, 455))"
      ]
     },
     "execution_count": 7,
     "metadata": {},
     "output_type": "execute_result"
    }
   ],
   "source": [
    "predicted.shape, X_train.T.shape"
   ]
  },
  {
   "cell_type": "code",
   "execution_count": 8,
   "metadata": {},
   "outputs": [
    {
     "data": {
      "text/plain": [
       "array([ 1.59144923e+02,  9.77017906e+01,  1.62038687e+02,  1.54530856e+02,\n",
       "        9.41711244e+01,  1.32874915e+02,  1.49352534e+02,  1.72473390e+02,\n",
       "        7.73814823e+01, -1.55561990e+00,  1.24482044e+02,  6.65479595e+00,\n",
       "        1.20266023e+02,  1.19684100e+02, -8.05833726e+00,  5.55774918e+01,\n",
       "        4.17513888e+01,  8.07171850e+01, -5.46732217e-02,  6.89635631e+00,\n",
       "        1.69736497e+02,  1.07987554e+02,  1.70537234e+02,  1.60227019e+02,\n",
       "        1.06117395e+02,  1.30298542e+02,  1.40088921e+02,  1.74172919e+02,\n",
       "        9.68179146e+01,  6.92195499e+01])"
      ]
     },
     "execution_count": 8,
     "metadata": {},
     "output_type": "execute_result"
    }
   ],
   "source": [
    "np.dot(X_train.T, (predicted - y_train))"
   ]
  },
  {
   "cell_type": "code",
   "execution_count": 9,
   "metadata": {},
   "outputs": [],
   "source": [
    "\n",
    "class Logistic_Regression:\n",
    "    def __init__(self, learning_rate = 0.01, epochs = 10000):\n",
    "        self.lr = learning_rate\n",
    "        self.epochs = epochs\n",
    "        \n",
    "    def sigmoid(self, x):\n",
    "        return 1 / (1 + np.exp(-x))\n",
    "    \n",
    "    def loss(self, y, y_pred):\n",
    "        epsilon = 1e-15\n",
    "        return -1/len(y) * np.sum(y * np.log(y_pred + epsilon) + (1 - y) * np.log(1 - y_pred + epsilon))\n",
    "    \n",
    "    def Accuracy(self, y, y_pred):\n",
    "        y_pred_label = [1 if prob > 0.5 else 0 for prob in y_pred]\n",
    "        return np.sum(y == y_pred_label) / len(y)\n",
    "    \n",
    "    def fit(self, X, y):\n",
    "\n",
    "        n_samples , n_features = X.shape\n",
    "\n",
    "        self.weights = np.zeros(n_features)\n",
    "        self.bias = 0\n",
    "\n",
    "        for epoch in range(self.epochs):\n",
    "\n",
    "            predicted = self.sigmoid(np.dot(X, self.weights) + self.bias)\n",
    "\n",
    "            # Gradient Descent \n",
    "\n",
    "            dw = 1/(n_samples) * np.dot(X.T, (predicted - y))\n",
    "            db = 1/(n_samples) * np.sum(predicted - y)\n",
    "\n",
    "            self.weights -= self.lr * dw \n",
    "            self.bias -= self.lr * db\n",
    "\n",
    "            if epoch % 100 == 0:\n",
    "                print(f'Epoch {epoch} : Loss = {self.loss(predicted, y)} : Accuracy = {self.Accuracy(y, predicted)}')\n",
    "\n",
    "        \n",
    "    def predict(self, X):\n",
    "        predicted = self.sigmoid(np.dot(X, self.weights) + self.bias)\n",
    "        return np.array([1 if i > 0.5 else 0 for i in predicted])\n",
    "    \n",
    "    def evaluate(self, X, y):\n",
    "        predicted = self.predict(X)\n",
    "        return f'Loss {self.loss(predicted, y) } : Accuracy {self.Accuracy(y, predicted)}  '\n"
   ]
  },
  {
   "cell_type": "code",
   "execution_count": 10,
   "metadata": {},
   "outputs": [],
   "source": [
    "model = Logistic_Regression(learning_rate=0.1, epochs=200)"
   ]
  },
  {
   "cell_type": "code",
   "execution_count": 11,
   "metadata": {},
   "outputs": [
    {
     "name": "stdout",
     "output_type": "stream",
     "text": [
      "Epoch 0 : Loss = 17.269388197455335 : Accuracy = 0.37142857142857144\n",
      "Epoch 100 : Loss = 2.820605938536816 : Accuracy = 0.9824175824175824\n"
     ]
    }
   ],
   "source": [
    "model.fit(X_train, y_train)"
   ]
  },
  {
   "cell_type": "code",
   "execution_count": 12,
   "metadata": {},
   "outputs": [
    {
     "data": {
      "text/plain": [
       "'Loss 0.3029717227623735 : Accuracy 0.9912280701754386  '"
      ]
     },
     "execution_count": 12,
     "metadata": {},
     "output_type": "execute_result"
    }
   ],
   "source": [
    "model.evaluate(X_test, y_test)"
   ]
  }
 ],
 "metadata": {
  "kernelspec": {
   "display_name": "ml",
   "language": "python",
   "name": "python3"
  },
  "language_info": {
   "codemirror_mode": {
    "name": "ipython",
    "version": 3
   },
   "file_extension": ".py",
   "mimetype": "text/x-python",
   "name": "python",
   "nbconvert_exporter": "python",
   "pygments_lexer": "ipython3",
   "version": "3.11.9"
  }
 },
 "nbformat": 4,
 "nbformat_minor": 2
}
