{
 "cells": [
  {
   "cell_type": "code",
   "execution_count": 3,
   "metadata": {
    "ExecuteTime": {
     "end_time": "2024-07-27T17:23:50.663419Z",
     "start_time": "2024-07-27T17:23:50.024562Z"
    }
   },
   "outputs": [],
   "source": [
    "import numpy as np\n",
    "from make_data import regression_data\n",
    "X_train , X_test, y_train, y_test = regression_data()"
   ]
  },
  {
   "cell_type": "code",
   "execution_count": 4,
   "metadata": {
    "ExecuteTime": {
     "end_time": "2024-07-27T17:23:52.581875Z",
     "start_time": "2024-07-27T17:23:52.574229Z"
    }
   },
   "outputs": [],
   "source": [
    "class Linear_Regression():\n",
    "    def __init__(self, learning_rate = 0.001, epochs = 100):\n",
    "        self.lr = learning_rate\n",
    "        self.epochs = epochs\n",
    "\n",
    "    def loss(self, y_true, y_pred):  # Mean squared error loss\n",
    "        return np.mean((y_true - y_pred) ** 2)\n",
    "    \n",
    "    def fit(self, X, y):\n",
    "        \n",
    "        n_samples , n_features = X.shape\n",
    "        self.weights = np.zeros(n_features)\n",
    "        self.bias = 0\n",
    "\n",
    "        for step in range(self.epochs):\n",
    "            predicted = np.dot(X, self.weights) + self.bias\n",
    "\n",
    "            # Gradient Descent\n",
    "\n",
    "            dw = (1/n_samples) * np.dot(X.T,  (predicted - y))\n",
    "            db = (1/n_samples) * np.sum( (predicted - y))\n",
    "\n",
    "            self.weights -= self.lr * dw\n",
    "            self.bias -= self.lr * db\n",
    "\n",
    "            if step % 1000 == 0:\n",
    "                print(f'Epochs {step} / {self.epochs}, Loss: {self.loss(y, predicted)}')\n",
    "    \n",
    "    def predict(self, X):\n",
    "        return np.dot(X, self.weights) + self.bias\n",
    "    \n",
    "\n",
    "    def evaluate(self, X, y):\n",
    "        predicted = self.predict(X)\n",
    "        return self.loss(y, predicted)\n",
    "\n",
    "        "
   ]
  },
  {
   "cell_type": "code",
   "execution_count": 5,
   "metadata": {
    "ExecuteTime": {
     "end_time": "2024-07-27T17:23:53.456812Z",
     "start_time": "2024-07-27T17:23:53.447611Z"
    }
   },
   "outputs": [],
   "source": [
    "model = Linear_Regression(0.01, 5000)"
   ]
  },
  {
   "cell_type": "code",
   "execution_count": 6,
   "metadata": {
    "ExecuteTime": {
     "end_time": "2024-07-27T17:23:55.042121Z",
     "start_time": "2024-07-27T17:23:54.638511Z"
    }
   },
   "outputs": [
    {
     "name": "stdout",
     "output_type": "stream",
     "text": [
      "Epochs 0 / 5000, Loss: 5.6155834636068915\n",
      "Epochs 1000 / 5000, Loss: 0.5542149511461038\n",
      "Epochs 2000 / 5000, Loss: 0.5324436206842582\n",
      "Epochs 3000 / 5000, Loss: 0.5276656432639212\n",
      "Epochs 4000 / 5000, Loss: 0.5265158710223338\n"
     ]
    }
   ],
   "source": [
    "model.fit(X_train, y_train)"
   ]
  },
  {
   "cell_type": "code",
   "execution_count": 7,
   "metadata": {
    "ExecuteTime": {
     "end_time": "2024-07-27T17:23:55.810017Z",
     "start_time": "2024-07-27T17:23:55.794Z"
    }
   },
   "outputs": [
    {
     "data": {
      "text/plain": [
       "0.5186583565653605"
      ]
     },
     "execution_count": 7,
     "metadata": {},
     "output_type": "execute_result"
    }
   ],
   "source": [
    "model.evaluate(X_test, y_test)"
   ]
  }
 ],
 "metadata": {
  "kernelspec": {
   "display_name": "Python 3 (ipykernel)",
   "language": "python",
   "name": "python3"
  },
  "language_info": {
   "codemirror_mode": {
    "name": "ipython",
    "version": 3
   },
   "file_extension": ".py",
   "mimetype": "text/x-python",
   "name": "python",
   "nbconvert_exporter": "python",
   "pygments_lexer": "ipython3",
   "version": "3.10.14"
  }
 },
 "nbformat": 4,
 "nbformat_minor": 4
}
