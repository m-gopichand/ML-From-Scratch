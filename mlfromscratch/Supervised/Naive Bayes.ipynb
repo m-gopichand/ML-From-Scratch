{
 "cells": [
  {
   "cell_type": "code",
   "metadata": {
    "ExecuteTime": {
     "end_time": "2024-07-27T17:25:01.863121Z",
     "start_time": "2024-07-27T17:25:01.184460Z"
    }
   },
   "source": [
    "import numpy as np\n",
    "from mlfromscratch.utils.make_data import classification_data\n",
    "\n",
    "X_train , X_test, y_train, y_test = classification_data()"
   ],
   "outputs": [],
   "execution_count": 1
  },
  {
   "cell_type": "code",
   "metadata": {
    "ExecuteTime": {
     "end_time": "2024-07-27T17:25:01.866998Z",
     "start_time": "2024-07-27T17:25:01.863121Z"
    }
   },
   "source": [
    "def accuracy(y_true, y_pred):\n",
    "    acc = np.sum(y_true == y_pred) / len(y_true)\n",
    "    return acc"
   ],
   "outputs": [],
   "execution_count": 2
  },
  {
   "cell_type": "code",
   "metadata": {
    "ExecuteTime": {
     "end_time": "2024-07-27T17:25:01.874094Z",
     "start_time": "2024-07-27T17:25:01.866998Z"
    }
   },
   "source": [
    "class NaiveBayes:\n",
    "    def fit(self, X, y):\n",
    "        n_samples , n_features = X.shape\n",
    "        self._classes = np.unique(y)\n",
    "        n_classes = len(self._classes)\n",
    "\n",
    "        self._mean = np.zeros((n_classes, n_features), dtype=np.float64)\n",
    "        self._var = np.zeros((n_classes, n_features), dtype=np.float64)\n",
    "        self._prior = np.zeros(n_classes, dtype = np.float64)\n",
    "\n",
    "        for idx, c in enumerate(self._classes):\n",
    "            X_c = X[idx == y]\n",
    "            self._mean[idx, :] = X_c.mean(axis=0)\n",
    "            self._var[idx, :] = X_c.var(axis=0)\n",
    "            self._prior[idx] = X_c.shape[0] / float(n_classes)\n",
    "\n",
    "    def predict(self, X):\n",
    "        return [self._predict(x) for x in X]\n",
    "    \n",
    "    def _predict(self, x):\n",
    "         posteriors = []\n",
    "\n",
    "         for idx , c in enumerate(self._classes):\n",
    "             prior = np.log(self._prior[idx])\n",
    "             class_conditional = np.sum(np.log(self._pdf(idx, x)))\n",
    "             posterior = class_conditional + prior\n",
    "             posteriors.append(posterior)\n",
    "         return self._classes[np.argmax(posteriors)]\n",
    "        \n",
    "\n",
    "    def _pdf(self, class_idx, x):\n",
    "        mean = self._mean[class_idx]\n",
    "        var = self._var[class_idx]\n",
    "        numerator = np.exp(- (x - mean) ** 2 / (2 * var))\n",
    "        denominator = np.sqrt(2 * np.pi * var)\n",
    "        return numerator/denominator"
   ],
   "outputs": [],
   "execution_count": 3
  },
  {
   "cell_type": "code",
   "metadata": {
    "ExecuteTime": {
     "end_time": "2024-07-27T17:25:01.878124Z",
     "start_time": "2024-07-27T17:25:01.874094Z"
    }
   },
   "source": [
    "model = NaiveBayes()\n",
    "model.fit(X_train,y_train)"
   ],
   "outputs": [],
   "execution_count": 4
  },
  {
   "cell_type": "code",
   "metadata": {
    "ExecuteTime": {
     "end_time": "2024-07-27T17:25:01.888914Z",
     "start_time": "2024-07-27T17:25:01.878124Z"
    }
   },
   "source": [
    "preds = model.predict(X_test)\n",
    "accuracy(preds, y_test)"
   ],
   "outputs": [
    {
     "data": {
      "text/plain": [
       "np.float64(0.965)"
      ]
     },
     "execution_count": 5,
     "metadata": {},
     "output_type": "execute_result"
    }
   ],
   "execution_count": 5
  }
 ],
 "metadata": {
  "kernelspec": {
   "display_name": "ml",
   "language": "python",
   "name": "python3"
  },
  "language_info": {
   "codemirror_mode": {
    "name": "ipython",
    "version": 3
   },
   "file_extension": ".py",
   "mimetype": "text/x-python",
   "name": "python",
   "nbconvert_exporter": "python",
   "pygments_lexer": "ipython3",
   "version": "3.10.14"
  }
 },
 "nbformat": 4,
 "nbformat_minor": 2
}
