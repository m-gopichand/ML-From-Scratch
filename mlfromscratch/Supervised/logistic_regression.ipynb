{
 "cells": [
  {
   "cell_type": "code",
   "metadata": {
    "ExecuteTime": {
     "end_time": "2024-07-27T17:24:33.808376Z",
     "start_time": "2024-07-27T17:24:33.117843Z"
    }
   },
   "source": [
    "import numpy as np\n",
    "from mlfromscratch.utils.make_data import classification_data\n",
    "\n",
    "X_train , X_test, y_train, y_test = classification_data()"
   ],
   "outputs": [],
   "execution_count": 1
  },
  {
   "cell_type": "code",
   "metadata": {
    "ExecuteTime": {
     "end_time": "2024-07-27T17:24:33.815353Z",
     "start_time": "2024-07-27T17:24:33.808376Z"
    }
   },
   "source": [
    "class Logistic_Regression:\n",
    "    def __init__(self, learning_rate = 0.01, epochs = 10000):\n",
    "        self.lr = learning_rate\n",
    "        self.epochs = epochs\n",
    "        \n",
    "    def sigmoid(self, x):\n",
    "        return 1 / (1 + np.exp(-x))\n",
    "    \n",
    "    def loss(self, y, y_pred):\n",
    "        epsilon = 1e-15\n",
    "        return -1/len(y) * np.sum(y * np.log(y_pred + epsilon) + (1 - y) * np.log(1 - y_pred + epsilon))\n",
    "    \n",
    "    def Accuracy(self, y, y_pred):\n",
    "        y_pred_label = [1 if prob > 0.5 else 0 for prob in y_pred]\n",
    "        return np.sum(y == y_pred_label) / len(y)\n",
    "    \n",
    "    def fit(self, X, y):\n",
    "\n",
    "        n_samples , n_features = X.shape\n",
    "\n",
    "        self.weights = np.zeros(n_features)\n",
    "        self.bias = 0\n",
    "\n",
    "        for epoch in range(self.epochs):\n",
    "\n",
    "            predicted = self.sigmoid(np.dot(X, self.weights) + self.bias)\n",
    "\n",
    "            # Gradient Descent \n",
    "\n",
    "            dw = 1/(n_samples) * np.dot(X.T, (predicted - y))\n",
    "            db = 1/(n_samples) * np.sum(predicted - y)\n",
    "\n",
    "            self.weights -= self.lr * dw \n",
    "            self.bias -= self.lr * db\n",
    "\n",
    "            if epoch % 100 == 0:\n",
    "                print(f'Epoch {epoch} : Loss = {self.loss(predicted, y)} : Accuracy = {self.Accuracy(y, predicted)}')\n",
    "\n",
    "        \n",
    "    def predict(self, X):\n",
    "        predicted = self.sigmoid(np.dot(X, self.weights) + self.bias)\n",
    "        return np.array([1 if i > 0.5 else 0 for i in predicted])\n",
    "    \n",
    "    def evaluate(self, X, y):\n",
    "        predicted = self.predict(X)\n",
    "        return f'Loss {self.loss(predicted, y) } : Accuracy {self.Accuracy(y, predicted)}  '\n"
   ],
   "outputs": [],
   "execution_count": 2
  },
  {
   "cell_type": "code",
   "metadata": {
    "ExecuteTime": {
     "end_time": "2024-07-27T17:24:33.820306Z",
     "start_time": "2024-07-27T17:24:33.815353Z"
    }
   },
   "source": [
    "model = Logistic_Regression(learning_rate=0.1, epochs=200)"
   ],
   "outputs": [],
   "execution_count": 3
  },
  {
   "cell_type": "code",
   "metadata": {
    "ExecuteTime": {
     "end_time": "2024-07-27T17:24:33.830650Z",
     "start_time": "2024-07-27T17:24:33.820306Z"
    }
   },
   "source": [
    "model.fit(X_train, y_train)"
   ],
   "outputs": [
    {
     "name": "stdout",
     "output_type": "stream",
     "text": [
      "Epoch 0 : Loss = 17.26938819745534 : Accuracy = 0.50375\n",
      "Epoch 100 : Loss = 5.717527426059942 : Accuracy = 0.9425\n"
     ]
    }
   ],
   "execution_count": 4
  },
  {
   "cell_type": "code",
   "metadata": {
    "ExecuteTime": {
     "end_time": "2024-07-27T17:24:33.837863Z",
     "start_time": "2024-07-27T17:24:33.830650Z"
    }
   },
   "source": [
    "model.evaluate(X_test, y_test)"
   ],
   "outputs": [
    {
     "data": {
      "text/plain": [
       "'Loss 1.5542449377709802 : Accuracy 0.955  '"
      ]
     },
     "execution_count": 5,
     "metadata": {},
     "output_type": "execute_result"
    }
   ],
   "execution_count": 5
  }
 ],
 "metadata": {
  "kernelspec": {
   "display_name": "ml",
   "language": "python",
   "name": "python3"
  },
  "language_info": {
   "codemirror_mode": {
    "name": "ipython",
    "version": 3
   },
   "file_extension": ".py",
   "mimetype": "text/x-python",
   "name": "python",
   "nbconvert_exporter": "python",
   "pygments_lexer": "ipython3",
   "version": "3.10.14"
  }
 },
 "nbformat": 4,
 "nbformat_minor": 2
}
