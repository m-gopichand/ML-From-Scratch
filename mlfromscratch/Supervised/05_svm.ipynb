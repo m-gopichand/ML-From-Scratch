{
 "cells": [
  {
   "cell_type": "code",
   "execution_count": 50,
   "metadata": {},
   "outputs": [],
   "source": [
    "import numpy as np\n",
    "from make_data import classification_data\n",
    "X_train, X_test, y_train, y_test = classification_data()"
   ]
  },
  {
   "cell_type": "code",
   "execution_count": 51,
   "metadata": {},
   "outputs": [],
   "source": [
    "\n",
    "class SVM:\n",
    "    def __init__(self, learning_rate=0.001, lambda_param=0.01, n_iters=1000):\n",
    "        self.lr = learning_rate\n",
    "        self.lp = lambda_param \n",
    "        self.n_iters = n_iters\n",
    "        self.w = None \n",
    "        self.b = None \n",
    "\n",
    "    def fit(self, X, y):\n",
    "        y_ = np.where(y <= 0, -1, 1)\n",
    "        _, n_features = X.shape\n",
    "\n",
    "        self.w = np.zeros(n_features)\n",
    "        self.b = 0\n",
    "\n",
    "        for _ in range(self.n_iters):\n",
    "            for idx, x_i in enumerate(X):\n",
    "                condition = y_[idx] * (np.dot(x_i, self.w) + self.b) >= 1\n",
    "                if condition:\n",
    "                    self.w -= self.lr * (2 * self.lp * self.w)\n",
    "                else:\n",
    "                    self.w -= self.lr * (2 * self.lp * self.w - np.dot(x_i, y_[idx]))\n",
    "                    self.b -= self.lr * y_[idx]\n",
    "\n",
    "    def predict(self, X):\n",
    "        output = np.dot(X, self.w) + self.b \n",
    "        return np.sign(output)\n",
    "    \n",
    "    def loss(self, y_pred, y):\n",
    "        return np.mean(np.maximum(0, 1 - y * y_pred)) + self.lp * np.dot(self.w, self.w)\n",
    "\n",
    "    def accuracy(self, y, y_pred):\n",
    "        return np.sum(y == y_pred) / len(y)\n",
    "    \n",
    "    def evaluate(self, X, y):\n",
    "        predicted = self.predict(X)\n",
    "        return {'Loss': self.loss(predicted, y), 'Accuracy': self.accuracy(y, predicted)}\n"
   ]
  },
  {
   "cell_type": "code",
   "execution_count": 52,
   "metadata": {},
   "outputs": [],
   "source": [
    "model = SVM()"
   ]
  },
  {
   "cell_type": "code",
   "execution_count": 53,
   "metadata": {},
   "outputs": [],
   "source": [
    "model.fit(X_train, y_train)"
   ]
  },
  {
   "cell_type": "code",
   "execution_count": 54,
   "metadata": {},
   "outputs": [
    {
     "data": {
      "text/plain": [
       "{'Loss': 8.079955680481063, 'Accuracy': 0.505}"
      ]
     },
     "execution_count": 54,
     "metadata": {},
     "output_type": "execute_result"
    }
   ],
   "source": [
    "model.evaluate(X_test, y_test)"
   ]
  }
 ],
 "metadata": {
  "kernelspec": {
   "display_name": "ml",
   "language": "python",
   "name": "python3"
  },
  "language_info": {
   "codemirror_mode": {
    "name": "ipython",
    "version": 3
   },
   "file_extension": ".py",
   "mimetype": "text/x-python",
   "name": "python",
   "nbconvert_exporter": "python",
   "pygments_lexer": "ipython3",
   "version": "3.10.14"
  }
 },
 "nbformat": 4,
 "nbformat_minor": 2
}
