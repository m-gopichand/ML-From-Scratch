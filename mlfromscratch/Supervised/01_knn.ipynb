{
 "cells": [
  {
   "cell_type": "code",
   "metadata": {
    "ExecuteTime": {
     "end_time": "2024-08-17T17:47:42.153324Z",
     "start_time": "2024-08-17T17:47:41.542877Z"
    }
   },
   "source": [
    "import numpy as np\n",
    "from collections import Counter\n",
    "import matplotlib.pyplot as plt\n",
    "from make_data import classification_data\n",
    "X_train , X_test, y_train, y_test = classification_data()"
   ],
   "outputs": [],
   "execution_count": 1
  },
  {
   "cell_type": "code",
   "metadata": {
    "ExecuteTime": {
     "end_time": "2024-08-17T17:47:43.056024Z",
     "start_time": "2024-08-17T17:47:43.047589Z"
    }
   },
   "source": [
    "class KNN:\n",
    "    def __init__(self, k=3):\n",
    "        self.k = k\n",
    "\n",
    "    def euclidian_distance(self, x1, x2):\n",
    "        return np.sqrt(np.sum(np.power((x1 - x2), 2)))\n",
    "\n",
    "    def fit(self, X, y):\n",
    "        self.X_train = X\n",
    "        self.y_train = y\n",
    "\n",
    "    def predict(self, X):\n",
    "        predicted_labels = [self._predict(x) for x in X ]\n",
    "        return np.array(predicted_labels)\n",
    "    \n",
    "    def _predict(self, x):\n",
    "        distance = [self.euclidian_distance(x , x_train) for x_train in self.X_train]\n",
    "\n",
    "        k_indices = np.argsort(distance)[:self.k]\n",
    "\n",
    "        k_neigherest_labels  = [self.y_train[i] for i in k_indices]\n",
    "\n",
    "        most_common = Counter(k_neigherest_labels).most_common(1)\n",
    "\n",
    "        return most_common[0][0]\n",
    "    \n",
    "    def evaluate(self, X_test, y_test):\n",
    "        return np.sum(self.predict(X_test) == y_test) / len(y_test)\n",
    "    \n"
   ],
   "outputs": [],
   "execution_count": 2
  },
  {
   "cell_type": "code",
   "metadata": {
    "ExecuteTime": {
     "end_time": "2024-08-17T17:47:45.176527Z",
     "start_time": "2024-08-17T17:47:44.641740Z"
    }
   },
   "source": [
    "model = KNN()\n",
    "model.fit(X_train, y_train)\n",
    "model.evaluate(X_test, y_test)"
   ],
   "outputs": [
    {
     "data": {
      "text/plain": [
       "np.float64(0.975)"
      ]
     },
     "execution_count": 3,
     "metadata": {},
     "output_type": "execute_result"
    }
   ],
   "execution_count": 3
  }
 ],
 "metadata": {
  "kernelspec": {
   "display_name": "ml",
   "language": "python",
   "name": "python3"
  },
  "language_info": {
   "codemirror_mode": {
    "name": "ipython",
    "version": 3
   },
   "file_extension": ".py",
   "mimetype": "text/x-python",
   "name": "python",
   "nbconvert_exporter": "python",
   "pygments_lexer": "ipython3",
   "version": "3.10.14"
  }
 },
 "nbformat": 4,
 "nbformat_minor": 2
}
