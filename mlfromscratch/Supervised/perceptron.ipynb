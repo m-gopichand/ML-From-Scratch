{
 "cells": [
  {
   "cell_type": "code",
   "execution_count": 1,
   "metadata": {
    "ExecuteTime": {
     "end_time": "2024-07-27T17:25:15.926672Z",
     "start_time": "2024-07-27T17:25:15.251439Z"
    }
   },
   "outputs": [],
   "source": [
    "import numpy as np\n",
    "from make_data import classification_data\n",
    "X_train , X_test, y_train, y_test = classification_data()"
   ]
  },
  {
   "cell_type": "code",
   "execution_count": 2,
   "metadata": {
    "ExecuteTime": {
     "end_time": "2024-07-27T17:25:15.933731Z",
     "start_time": "2024-07-27T17:25:15.926672Z"
    }
   },
   "outputs": [],
   "source": [
    "class Perceptron:\n",
    "    def __init__(self, learning_rate = 0.01, epochs = 10000):\n",
    "        self.lr = learning_rate\n",
    "        self.epochs = epochs\n",
    "        \n",
    "    def step(self, x):\n",
    "        return np.where(x > 0, 1, 0) # return 1 if x > 0 else 0\n",
    "    \n",
    "    def loss(self, y, y_pred):\n",
    "        epsilon = 1e-5\n",
    "        return -1/len(y) * np.sum(y * np.log(y_pred + epsilon) + (1 - y) * np.log(1 - y_pred + epsilon))\n",
    "    \n",
    "    def Accuracy(self, y, y_pred):\n",
    "        return np.sum(y == y_pred) / len(y)\n",
    "    \n",
    "    def fit(self, X, y):\n",
    "\n",
    "        n_samples , n_features = X.shape\n",
    "\n",
    "        self.weights = np.zeros(n_features)\n",
    "        self.bias = 0\n",
    "\n",
    "        for epoch in range(self.epochs):\n",
    "\n",
    "            predicted = self.step(np.dot(X, self.weights) + self.bias)\n",
    "\n",
    "            # Gradient Descent \n",
    "\n",
    "            dw = 1/(n_samples) * np.dot(X.T, (predicted - y))\n",
    "            db = 1/(n_samples) * np.sum(predicted - y)\n",
    "\n",
    "            self.weights -= self.lr * dw \n",
    "            self.bias -= self.lr * db\n",
    "\n",
    "            if epoch % 100 == 0:\n",
    "                print(f'Epoch {epoch} : Loss = {self.loss(predicted, y)} : Accuracy = {self.Accuracy(y, predicted)}')\n",
    "\n",
    "        \n",
    "    def predict(self, X):\n",
    "        predicted = self.step(np.dot(X, self.weights) + self.bias)\n",
    "        return np.array(predicted)\n",
    "    \n",
    "    def evaluate(self, X, y):\n",
    "        predicted = self.predict(X)\n",
    "        return f'Loss {self.loss(predicted, y) } : Accuracy {self.Accuracy(y, predicted)}  '\n"
   ]
  },
  {
   "cell_type": "code",
   "execution_count": 3,
   "metadata": {
    "ExecuteTime": {
     "end_time": "2024-07-27T17:25:15.937433Z",
     "start_time": "2024-07-27T17:25:15.934241Z"
    }
   },
   "outputs": [],
   "source": [
    "model = Perceptron(learning_rate=0.01, epochs=1000)"
   ]
  },
  {
   "cell_type": "code",
   "execution_count": 4,
   "metadata": {
    "ExecuteTime": {
     "end_time": "2024-07-27T17:25:16.376726Z",
     "start_time": "2024-07-27T17:25:16.347122Z"
    }
   },
   "outputs": [
    {
     "name": "stdout",
     "output_type": "stream",
     "text": [
      "Epoch 0 : Loss = 5.713284224516664 : Accuracy = 0.50375\n",
      "Epoch 100 : Loss = 0.7483308052698145 : Accuracy = 0.935\n",
      "Epoch 200 : Loss = 1.0361541918928203 : Accuracy = 0.91\n",
      "Epoch 300 : Loss = 1.079327699886271 : Accuracy = 0.90625\n",
      "Epoch 400 : Loss = 1.079327699886271 : Accuracy = 0.90625\n",
      "Epoch 500 : Loss = 0.9498071759059183 : Accuracy = 0.9175\n",
      "Epoch 600 : Loss = 1.0073718532305196 : Accuracy = 0.9125\n",
      "Epoch 700 : Loss = 1.122501207879722 : Accuracy = 0.9025\n",
      "Epoch 800 : Loss = 0.9641983452370687 : Accuracy = 0.91625\n",
      "Epoch 900 : Loss = 1.1081100385485716 : Accuracy = 0.90375\n"
     ]
    }
   ],
   "source": [
    "model.fit(X_train, y_train)"
   ]
  },
  {
   "cell_type": "code",
   "execution_count": 5,
   "metadata": {
    "ExecuteTime": {
     "end_time": "2024-07-27T17:25:17.112449Z",
     "start_time": "2024-07-27T17:25:17.093786Z"
    }
   },
   "outputs": [
    {
     "data": {
      "text/plain": [
       "'Loss 0.8058954825944159 : Accuracy 0.93  '"
      ]
     },
     "execution_count": 5,
     "metadata": {},
     "output_type": "execute_result"
    }
   ],
   "source": [
    "model.evaluate(X_test, y_test)"
   ]
  }
 ],
 "metadata": {
  "kernelspec": {
   "display_name": "Python 3 (ipykernel)",
   "language": "python",
   "name": "python3"
  },
  "language_info": {
   "codemirror_mode": {
    "name": "ipython",
    "version": 3
   },
   "file_extension": ".py",
   "mimetype": "text/x-python",
   "name": "python",
   "nbconvert_exporter": "python",
   "pygments_lexer": "ipython3",
   "version": "3.10.14"
  }
 },
 "nbformat": 4,
 "nbformat_minor": 4
}
