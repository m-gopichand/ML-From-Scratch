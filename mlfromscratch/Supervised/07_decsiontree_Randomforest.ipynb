{
 "cells": [
  {
   "cell_type": "code",
   "execution_count": 57,
   "metadata": {
    "ExecuteTime": {
     "end_time": "2024-08-17T17:54:36.575283Z",
     "start_time": "2024-08-17T17:54:36.097815Z"
    }
   },
   "outputs": [],
   "source": [
    "import numpy as np\n",
    "from make_data import classification_data\n",
    "from collections import Counter\n",
    "X_train , X_test, y_train, y_test = classification_data()"
   ]
  },
  {
   "cell_type": "code",
   "execution_count": 2,
   "metadata": {
    "ExecuteTime": {
     "end_time": "2024-08-17T17:54:38.783406Z",
     "start_time": "2024-08-17T17:54:38.780499Z"
    }
   },
   "outputs": [],
   "source": [
    "def entropy(y):\n",
    "    hist = np.bincount(y)\n",
    "    ps = hist / len(y)\n",
    "    return -np.sum([p * np.log2(p) for p in ps if p > 0])"
   ]
  },
  {
   "cell_type": "code",
   "execution_count": 23,
   "metadata": {
    "ExecuteTime": {
     "end_time": "2024-08-17T17:54:39.060553Z",
     "start_time": "2024-08-17T17:54:39.056045Z"
    }
   },
   "outputs": [],
   "source": [
    "class Node:\n",
    "    def __init__(self, feature = None , threshold = None, left = None , right = None,* , value = None):\n",
    "        self.feature = feature\n",
    "        self.threshold = threshold\n",
    "        self.left = left\n",
    "        self.right = right\n",
    "        self.value = value\n",
    "\n",
    "    def is_leaf_node(self):\n",
    "        return self.value is not None\n",
    "    \n",
    "\n",
    "class DecisionTree:\n",
    "    def __init__(self, min_sample_split=2, max_depth=100, n_feats=None):\n",
    "        self.min_sample_split = min_sample_split\n",
    "        self.max_depth = max_depth\n",
    "        self.n_feats = n_feats\n",
    "        self.root = None\n",
    "\n",
    "    def fit(self, X, y):\n",
    "        self.n_feats = X.shape[1] if not self.n_feats else min(self.n_feats, X.shape[1])\n",
    "        self.root = self._grow_trees(X, y)\n",
    "\n",
    "    def _grow_trees(self, X, y, depth=0):\n",
    "        n_samples , n_features = X.shape\n",
    "        n_labels = len(np.unique(y))\n",
    "\n",
    "        # Stopping criteria\n",
    "        if (depth >= self.max_depth \n",
    "            or n_labels == 1 \n",
    "            or n_samples < self.min_sample_split):\n",
    "            leaf_value = self._most_common_label(y)\n",
    "            return Node(value=leaf_value)\n",
    "\n",
    "        feat_idxs = np.random.choice(n_features, self.n_feats, replace=False)\n",
    "\n",
    "        # greedy search \n",
    "        best_feat, best_thresh = self._best_criteria(X, y, feat_idxs)\n",
    "        left_idx , right_idx = self._split(X[: , best_feat], best_thresh)\n",
    "        left = self._grow_trees(X[left_idx, :], y[left_idx], depth + 1)\n",
    "        right = self._grow_trees(X[right_idx, :], y[right_idx], depth + 1)\n",
    "\n",
    "        return Node(best_feat, best_thresh, left, right)\n",
    "\n",
    "    def _best_criteria(self, X, y, feat_idxs):\n",
    "        best_gain = -1\n",
    "        split_idx , split_thres = None , None \n",
    "        for feat_idx in feat_idxs:\n",
    "            x_colomn =  X[:, feat_idx]\n",
    "            threasholds = np.unique(x_colomn)\n",
    "            for threashold in threasholds :\n",
    "                gain = self._information_gain(y, x_colomn, threashold)\n",
    "\n",
    "                if gain > best_gain:\n",
    "                    best_gain = gain \n",
    "                    split_idx = feat_idx\n",
    "                    split_thres = threashold\n",
    "        \n",
    "        return split_idx , split_thres\n",
    "    \n",
    "    def _information_gain(self,y, x_coloumn, split_threh):\n",
    "        # Parent entropy\n",
    "        parent_entropy = entropy(y)\n",
    "\n",
    "        # Generate split\n",
    "        left_idx, right_idx = self._split(x_coloumn, split_threh)\n",
    "        left_len , right_len = len(left_idx), len(right_idx)\n",
    "        if left_len == 0 or right_len == 0: return 0\n",
    "\n",
    "        # weighted average child \n",
    "        n = len(y)\n",
    "        e_l , e_r = entropy(y[left_idx]), entropy(y[right_idx]) \n",
    "        child_entropy = (left_len / n)*e_l + (right_len / n)*e_r\n",
    "\n",
    "        return parent_entropy - child_entropy\n",
    "\n",
    "    def _split(self, x_coloum, split_threh):\n",
    "        left_idx = np.argwhere(x_coloum <= split_threh).flatten()\n",
    "        right_idx = np.argwhere(x_coloum > split_threh).flatten()\n",
    "        return left_idx, right_idx\n",
    "\n",
    "    def predict(self, X):\n",
    "        return np.array([self._traverse_tree(x,self.root) for x in X])\n",
    "    \n",
    "    def _traverse_tree(self, x, node):\n",
    "        if node.is_leaf_node():\n",
    "            return node.value\n",
    "        \n",
    "        if x[node.feature] <= node.threshold:\n",
    "            return self._traverse_tree(x, node.left)\n",
    "        \n",
    "        return self._traverse_tree(x, node.right)\n",
    "\n",
    "    def _most_common_label(self, y):\n",
    "        counter = Counter(y)\n",
    "        most_common = counter.most_common(1)[0][0]\n",
    "        return most_common"
   ]
  },
  {
   "cell_type": "code",
   "execution_count": 24,
   "metadata": {},
   "outputs": [],
   "source": [
    "model = DecisionTree()"
   ]
  },
  {
   "cell_type": "code",
   "execution_count": 25,
   "metadata": {},
   "outputs": [],
   "source": [
    "model.fit(X_train, y_train)"
   ]
  },
  {
   "cell_type": "code",
   "execution_count": 27,
   "metadata": {},
   "outputs": [],
   "source": [
    "preds = model.predict(X_test)"
   ]
  },
  {
   "cell_type": "code",
   "execution_count": 28,
   "metadata": {},
   "outputs": [],
   "source": [
    "def accuracy(y_true, y_pred):\n",
    "    accuracy = np.sum(y_true == y_pred) / len(y_true)\n",
    "    return accuracy"
   ]
  },
  {
   "cell_type": "code",
   "execution_count": 29,
   "metadata": {},
   "outputs": [
    {
     "data": {
      "text/plain": [
       "np.float64(0.97)"
      ]
     },
     "execution_count": 29,
     "metadata": {},
     "output_type": "execute_result"
    }
   ],
   "source": [
    "accuracy(y_test, preds)"
   ]
  },
  {
   "cell_type": "code",
   "execution_count": 52,
   "metadata": {},
   "outputs": [],
   "source": [
    "def bootstrap_sample(X, y):\n",
    "    n_samples = X.shape[0]\n",
    "    idx = np.random.choice(n_samples, size=n_samples, replace=True)\n",
    "    return X[idx], y[idx]"
   ]
  },
  {
   "cell_type": "code",
   "execution_count": 83,
   "metadata": {},
   "outputs": [],
   "source": [
    "class RandomForest():\n",
    "    def __init__(self, n_trees= 100, min_sample_split=2, max_depth=150, n_feats=None):\n",
    "        self.n_trees = n_trees\n",
    "        self.min_sample_split = min_sample_split\n",
    "        self.max_depth = max_depth\n",
    "        self.n_feats = n_feats\n",
    "        self.trees = []\n",
    "    def fit(self, X, y):\n",
    "        for _ in range(self.n_trees):\n",
    "            tree = DecisionTree(min_sample_split=self.min_sample_split,\n",
    "                                max_depth=self.max_depth,\n",
    "                                n_feats=self.n_feats)\n",
    "            \n",
    "            x_sample , y_sample = bootstrap_sample(X_train, y_train)\n",
    "\n",
    "            tree.fit(x_sample, y_sample)\n",
    "\n",
    "            self.trees.append(tree)\n",
    "\n",
    "    def predict(self, X):\n",
    "        tree_preds = [tree.predict(X) for tree in self.trees]\n",
    "        tree_preds = np.swapaxes(tree_preds, 0, 1)\n",
    "        y_preds = [self.most_common_label(tree_pred) for tree_pred in tree_preds]\n",
    "        return np.array(y_preds)\n",
    "    \n",
    "    def most_common_label(self, preds):\n",
    "        counter = Counter(preds)\n",
    "        return counter.most_common(1)[0][0]"
   ]
  },
  {
   "cell_type": "code",
   "execution_count": 84,
   "metadata": {},
   "outputs": [],
   "source": [
    "model = RandomForest()"
   ]
  },
  {
   "cell_type": "code",
   "execution_count": 85,
   "metadata": {},
   "outputs": [],
   "source": [
    "model.fit(X_train, y_train)"
   ]
  },
  {
   "cell_type": "code",
   "execution_count": 86,
   "metadata": {},
   "outputs": [],
   "source": [
    "preds = model.predict(X_test)"
   ]
  },
  {
   "cell_type": "code",
   "execution_count": 87,
   "metadata": {},
   "outputs": [
    {
     "data": {
      "text/plain": [
       "np.float64(0.995)"
      ]
     },
     "execution_count": 87,
     "metadata": {},
     "output_type": "execute_result"
    }
   ],
   "source": [
    "accuracy(y_test, preds)"
   ]
  }
 ],
 "metadata": {
  "kernelspec": {
   "display_name": "ml",
   "language": "python",
   "name": "python3"
  },
  "language_info": {
   "codemirror_mode": {
    "name": "ipython",
    "version": 3
   },
   "file_extension": ".py",
   "mimetype": "text/x-python",
   "name": "python",
   "nbconvert_exporter": "python",
   "pygments_lexer": "ipython3",
   "version": "3.11.9"
  }
 },
 "nbformat": 4,
 "nbformat_minor": 2
}
